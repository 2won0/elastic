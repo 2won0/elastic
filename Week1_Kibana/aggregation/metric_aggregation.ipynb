{
 "cells": [
  {
   "cell_type": "markdown",
   "metadata": {},
   "source": [
    "### 목록\n",
    "* 준비\n",
    "    * [사용할 라이브러리 불러오기](#lib)\n",
    "    * [엘라스틱서치 환경 설정하기](#es_setting)\n",
    "    * [엘라스틱서치에서 데이터 조회하기](#es_load)\n",
    "    * [조회한 데이터를 테이블 형태로 만들기](#df)\n",
    "* Metric Aggregation\n",
    "    * [Value Count Aggregation](#count)\n",
    "    * [Avg Aggregation](#avg)\n",
    "    * [Sum Aggregation](#sum)\n",
    "    * [Min Aggregation](#min)\n",
    "    * [Max Aggregation](#max)\n",
    "    * [Extended Stats Aggregation (표준편차)](#extended)\n",
    "    * [Cardinality Aggregation](#cardinal)\n",
    "    * [Percentiles Aggregation](#percentiles)\n",
    "    * [Percentile Ranks Aggregation](#percentile ranks)\n",
    "    * [Top Hits Aggregation](#top hits)\n",
    "---"
   ]
  },
  {
   "cell_type": "markdown",
   "metadata": {},
   "source": [
    "### 준비"
   ]
  },
  {
   "cell_type": "markdown",
   "metadata": {},
   "source": [
    "<a name='lib'></a>\n",
    "#### 사용할 라이브러리 불러오기"
   ]
  },
  {
   "cell_type": "code",
   "execution_count": 1,
   "metadata": {},
   "outputs": [],
   "source": [
    "import pandas as pd\n",
    "from elasticsearch import Elasticsearch"
   ]
  },
  {
   "cell_type": "markdown",
   "metadata": {},
   "source": [
    "<a name='es_setting'></a>\n",
    "#### 엘라스틱서치 환경 설정하기"
   ]
  },
  {
   "cell_type": "code",
   "execution_count": 2,
   "metadata": {},
   "outputs": [],
   "source": [
    "# 적당한 값을 넣지 않으면 오류가 납니다\n",
    "es = Elasticsearch()\n",
    "es_index = 'test_index'\n",
    "es_type = 'test_type'"
   ]
  },
  {
   "cell_type": "markdown",
   "metadata": {},
   "source": [
    "<a name='es_load'></a>\n",
    "#### 엘라스틱서치에서 데이터 조회하기"
   ]
  },
  {
   "cell_type": "code",
   "execution_count": 3,
   "metadata": {},
   "outputs": [],
   "source": [
    "x = es.search(\n",
    "      index='test_index', \n",
    "      doc_type='test_type', \n",
    "      body={\n",
    "        '_source' : ['주문시간', '상품가격', '구매사이트', '고객나이'],\n",
    "        'query' : {\n",
    "            'match_all' : {}\n",
    "        },\n",
    "        'size' : 50\n",
    "      }\n",
    ")"
   ]
  },
  {
   "cell_type": "markdown",
   "metadata": {},
   "source": [
    "<a name='df'></a>\n",
    "#### 조회한 데이터를 테이블 형태로 만들기"
   ]
  },
  {
   "cell_type": "code",
   "execution_count": 4,
   "metadata": {
    "scrolled": false
   },
   "outputs": [
    {
     "data": {
      "text/html": [
       "<div>\n",
       "<style scoped>\n",
       "    .dataframe tbody tr th:only-of-type {\n",
       "        vertical-align: middle;\n",
       "    }\n",
       "\n",
       "    .dataframe tbody tr th {\n",
       "        vertical-align: top;\n",
       "    }\n",
       "\n",
       "    .dataframe thead th {\n",
       "        text-align: right;\n",
       "    }\n",
       "</style>\n",
       "<table border=\"1\" class=\"dataframe\">\n",
       "  <thead>\n",
       "    <tr style=\"text-align: right;\">\n",
       "      <th></th>\n",
       "      <th>고객나이</th>\n",
       "      <th>구매사이트</th>\n",
       "      <th>상품가격</th>\n",
       "      <th>주문시간</th>\n",
       "    </tr>\n",
       "  </thead>\n",
       "  <tbody>\n",
       "    <tr>\n",
       "      <th>0</th>\n",
       "      <td>28</td>\n",
       "      <td>옥션</td>\n",
       "      <td>8000</td>\n",
       "      <td>2017-11-01T05:45:01</td>\n",
       "    </tr>\n",
       "    <tr>\n",
       "      <th>1</th>\n",
       "      <td>32</td>\n",
       "      <td>티몬</td>\n",
       "      <td>13000</td>\n",
       "      <td>2017-11-09T16:58:07</td>\n",
       "    </tr>\n",
       "    <tr>\n",
       "      <th>2</th>\n",
       "      <td>35</td>\n",
       "      <td>위메프</td>\n",
       "      <td>22000</td>\n",
       "      <td>2017-11-06T20:03:26</td>\n",
       "    </tr>\n",
       "    <tr>\n",
       "      <th>3</th>\n",
       "      <td>38</td>\n",
       "      <td>GS샵</td>\n",
       "      <td>21000</td>\n",
       "      <td>2017-11-03T18:29:35</td>\n",
       "    </tr>\n",
       "    <tr>\n",
       "      <th>4</th>\n",
       "      <td>28</td>\n",
       "      <td>쿠팡</td>\n",
       "      <td>21000</td>\n",
       "      <td>2017-11-09T22:37:36</td>\n",
       "    </tr>\n",
       "    <tr>\n",
       "      <th>5</th>\n",
       "      <td>30</td>\n",
       "      <td>티몬</td>\n",
       "      <td>13000</td>\n",
       "      <td>2017-11-05T00:41:55</td>\n",
       "    </tr>\n",
       "    <tr>\n",
       "      <th>6</th>\n",
       "      <td>41</td>\n",
       "      <td>옥션</td>\n",
       "      <td>15000</td>\n",
       "      <td>2017-11-06T00:27:44</td>\n",
       "    </tr>\n",
       "    <tr>\n",
       "      <th>7</th>\n",
       "      <td>38</td>\n",
       "      <td>쿠팡</td>\n",
       "      <td>12000</td>\n",
       "      <td>2017-11-09T00:40:16</td>\n",
       "    </tr>\n",
       "    <tr>\n",
       "      <th>8</th>\n",
       "      <td>39</td>\n",
       "      <td>11번가</td>\n",
       "      <td>10000</td>\n",
       "      <td>2017-11-06T10:28:26</td>\n",
       "    </tr>\n",
       "    <tr>\n",
       "      <th>9</th>\n",
       "      <td>39</td>\n",
       "      <td>GS샵</td>\n",
       "      <td>17000</td>\n",
       "      <td>2017-11-08T02:00:16</td>\n",
       "    </tr>\n",
       "    <tr>\n",
       "      <th>10</th>\n",
       "      <td>33</td>\n",
       "      <td>GS샵</td>\n",
       "      <td>6000</td>\n",
       "      <td>2017-11-07T15:29:40</td>\n",
       "    </tr>\n",
       "    <tr>\n",
       "      <th>11</th>\n",
       "      <td>25</td>\n",
       "      <td>g마켓</td>\n",
       "      <td>5000</td>\n",
       "      <td>2017-11-09T17:35:41</td>\n",
       "    </tr>\n",
       "    <tr>\n",
       "      <th>12</th>\n",
       "      <td>33</td>\n",
       "      <td>11번가</td>\n",
       "      <td>17000</td>\n",
       "      <td>2017-11-10T15:53:17</td>\n",
       "    </tr>\n",
       "    <tr>\n",
       "      <th>13</th>\n",
       "      <td>27</td>\n",
       "      <td>위메프</td>\n",
       "      <td>17000</td>\n",
       "      <td>2017-11-02T05:28:18</td>\n",
       "    </tr>\n",
       "    <tr>\n",
       "      <th>14</th>\n",
       "      <td>44</td>\n",
       "      <td>옥션</td>\n",
       "      <td>21000</td>\n",
       "      <td>2017-11-04T08:22:51</td>\n",
       "    </tr>\n",
       "    <tr>\n",
       "      <th>15</th>\n",
       "      <td>20</td>\n",
       "      <td>티몬</td>\n",
       "      <td>28000</td>\n",
       "      <td>2017-11-03T20:15:22</td>\n",
       "    </tr>\n",
       "    <tr>\n",
       "      <th>16</th>\n",
       "      <td>43</td>\n",
       "      <td>11번가</td>\n",
       "      <td>14000</td>\n",
       "      <td>2017-11-06T06:26:34</td>\n",
       "    </tr>\n",
       "    <tr>\n",
       "      <th>17</th>\n",
       "      <td>27</td>\n",
       "      <td>GS샵</td>\n",
       "      <td>8000</td>\n",
       "      <td>2017-11-10T17:03:49</td>\n",
       "    </tr>\n",
       "    <tr>\n",
       "      <th>18</th>\n",
       "      <td>35</td>\n",
       "      <td>옥션</td>\n",
       "      <td>23000</td>\n",
       "      <td>2017-11-05T04:57:07</td>\n",
       "    </tr>\n",
       "    <tr>\n",
       "      <th>19</th>\n",
       "      <td>30</td>\n",
       "      <td>쿠팡</td>\n",
       "      <td>25000</td>\n",
       "      <td>2017-11-04T14:45:44</td>\n",
       "    </tr>\n",
       "    <tr>\n",
       "      <th>20</th>\n",
       "      <td>28</td>\n",
       "      <td>GS샵</td>\n",
       "      <td>21000</td>\n",
       "      <td>2017-11-06T12:47:17</td>\n",
       "    </tr>\n",
       "    <tr>\n",
       "      <th>21</th>\n",
       "      <td>26</td>\n",
       "      <td>GS샵</td>\n",
       "      <td>11000</td>\n",
       "      <td>2017-11-08T01:14:23</td>\n",
       "    </tr>\n",
       "    <tr>\n",
       "      <th>22</th>\n",
       "      <td>29</td>\n",
       "      <td>11번가</td>\n",
       "      <td>17000</td>\n",
       "      <td>2017-11-03T10:37:56</td>\n",
       "    </tr>\n",
       "    <tr>\n",
       "      <th>23</th>\n",
       "      <td>33</td>\n",
       "      <td>옥션</td>\n",
       "      <td>19000</td>\n",
       "      <td>2017-11-06T04:46:55</td>\n",
       "    </tr>\n",
       "    <tr>\n",
       "      <th>24</th>\n",
       "      <td>42</td>\n",
       "      <td>g마켓</td>\n",
       "      <td>10000</td>\n",
       "      <td>2017-11-02T04:33:20</td>\n",
       "    </tr>\n",
       "    <tr>\n",
       "      <th>25</th>\n",
       "      <td>22</td>\n",
       "      <td>11번가</td>\n",
       "      <td>18000</td>\n",
       "      <td>2017-11-05T00:20:15</td>\n",
       "    </tr>\n",
       "    <tr>\n",
       "      <th>26</th>\n",
       "      <td>34</td>\n",
       "      <td>g마켓</td>\n",
       "      <td>5000</td>\n",
       "      <td>2017-11-07T02:40:42</td>\n",
       "    </tr>\n",
       "    <tr>\n",
       "      <th>27</th>\n",
       "      <td>29</td>\n",
       "      <td>11번가</td>\n",
       "      <td>26000</td>\n",
       "      <td>2017-11-05T04:18:52</td>\n",
       "    </tr>\n",
       "    <tr>\n",
       "      <th>28</th>\n",
       "      <td>45</td>\n",
       "      <td>GS샵</td>\n",
       "      <td>17000</td>\n",
       "      <td>2017-11-09T21:57:00</td>\n",
       "    </tr>\n",
       "    <tr>\n",
       "      <th>29</th>\n",
       "      <td>35</td>\n",
       "      <td>g마켓</td>\n",
       "      <td>9000</td>\n",
       "      <td>2017-11-04T08:22:24</td>\n",
       "    </tr>\n",
       "    <tr>\n",
       "      <th>30</th>\n",
       "      <td>38</td>\n",
       "      <td>11번가</td>\n",
       "      <td>9000</td>\n",
       "      <td>2017-11-07T01:32:11</td>\n",
       "    </tr>\n",
       "    <tr>\n",
       "      <th>31</th>\n",
       "      <td>38</td>\n",
       "      <td>g마켓</td>\n",
       "      <td>7000</td>\n",
       "      <td>2017-11-09T03:28:29</td>\n",
       "    </tr>\n",
       "    <tr>\n",
       "      <th>32</th>\n",
       "      <td>41</td>\n",
       "      <td>옥션</td>\n",
       "      <td>27000</td>\n",
       "      <td>2017-11-10T23:15:29</td>\n",
       "    </tr>\n",
       "    <tr>\n",
       "      <th>33</th>\n",
       "      <td>19</td>\n",
       "      <td>티몬</td>\n",
       "      <td>23000</td>\n",
       "      <td>2017-11-04T20:38:58</td>\n",
       "    </tr>\n",
       "    <tr>\n",
       "      <th>34</th>\n",
       "      <td>43</td>\n",
       "      <td>g마켓</td>\n",
       "      <td>10000</td>\n",
       "      <td>2017-11-02T19:50:09</td>\n",
       "    </tr>\n",
       "    <tr>\n",
       "      <th>35</th>\n",
       "      <td>34</td>\n",
       "      <td>티몬</td>\n",
       "      <td>5000</td>\n",
       "      <td>2017-11-09T17:10:08</td>\n",
       "    </tr>\n",
       "    <tr>\n",
       "      <th>36</th>\n",
       "      <td>17</td>\n",
       "      <td>11번가</td>\n",
       "      <td>27000</td>\n",
       "      <td>2017-11-01T13:52:01</td>\n",
       "    </tr>\n",
       "    <tr>\n",
       "      <th>37</th>\n",
       "      <td>41</td>\n",
       "      <td>위메프</td>\n",
       "      <td>19000</td>\n",
       "      <td>2017-11-10T15:39:55</td>\n",
       "    </tr>\n",
       "    <tr>\n",
       "      <th>38</th>\n",
       "      <td>27</td>\n",
       "      <td>옥션</td>\n",
       "      <td>20000</td>\n",
       "      <td>2017-11-09T14:50:53</td>\n",
       "    </tr>\n",
       "    <tr>\n",
       "      <th>39</th>\n",
       "      <td>18</td>\n",
       "      <td>옥션</td>\n",
       "      <td>26000</td>\n",
       "      <td>2017-11-08T10:27:28</td>\n",
       "    </tr>\n",
       "    <tr>\n",
       "      <th>40</th>\n",
       "      <td>22</td>\n",
       "      <td>GS샵</td>\n",
       "      <td>22000</td>\n",
       "      <td>2017-11-03T20:24:56</td>\n",
       "    </tr>\n",
       "    <tr>\n",
       "      <th>41</th>\n",
       "      <td>29</td>\n",
       "      <td>g마켓</td>\n",
       "      <td>12000</td>\n",
       "      <td>2017-11-04T05:32:27</td>\n",
       "    </tr>\n",
       "    <tr>\n",
       "      <th>42</th>\n",
       "      <td>26</td>\n",
       "      <td>옥션</td>\n",
       "      <td>23000</td>\n",
       "      <td>2017-11-02T13:19:26</td>\n",
       "    </tr>\n",
       "    <tr>\n",
       "      <th>43</th>\n",
       "      <td>31</td>\n",
       "      <td>11번가</td>\n",
       "      <td>18000</td>\n",
       "      <td>2017-11-04T02:16:07</td>\n",
       "    </tr>\n",
       "    <tr>\n",
       "      <th>44</th>\n",
       "      <td>45</td>\n",
       "      <td>위메프</td>\n",
       "      <td>22000</td>\n",
       "      <td>2017-11-10T16:14:55</td>\n",
       "    </tr>\n",
       "    <tr>\n",
       "      <th>45</th>\n",
       "      <td>24</td>\n",
       "      <td>g마켓</td>\n",
       "      <td>13000</td>\n",
       "      <td>2017-11-07T18:24:38</td>\n",
       "    </tr>\n",
       "    <tr>\n",
       "      <th>46</th>\n",
       "      <td>36</td>\n",
       "      <td>g마켓</td>\n",
       "      <td>12000</td>\n",
       "      <td>2017-11-04T11:48:21</td>\n",
       "    </tr>\n",
       "    <tr>\n",
       "      <th>47</th>\n",
       "      <td>17</td>\n",
       "      <td>GS샵</td>\n",
       "      <td>11000</td>\n",
       "      <td>2017-11-03T01:42:38</td>\n",
       "    </tr>\n",
       "    <tr>\n",
       "      <th>48</th>\n",
       "      <td>34</td>\n",
       "      <td>티몬</td>\n",
       "      <td>9000</td>\n",
       "      <td>2017-11-07T03:44:21</td>\n",
       "    </tr>\n",
       "    <tr>\n",
       "      <th>49</th>\n",
       "      <td>19</td>\n",
       "      <td>11번가</td>\n",
       "      <td>27000</td>\n",
       "      <td>2017-11-08T03:43:55</td>\n",
       "    </tr>\n",
       "  </tbody>\n",
       "</table>\n",
       "</div>"
      ],
      "text/plain": [
       "    고객나이 구매사이트   상품가격                 주문시간\n",
       "0     28    옥션   8000  2017-11-01T05:45:01\n",
       "1     32    티몬  13000  2017-11-09T16:58:07\n",
       "2     35   위메프  22000  2017-11-06T20:03:26\n",
       "3     38   GS샵  21000  2017-11-03T18:29:35\n",
       "4     28    쿠팡  21000  2017-11-09T22:37:36\n",
       "5     30    티몬  13000  2017-11-05T00:41:55\n",
       "6     41    옥션  15000  2017-11-06T00:27:44\n",
       "7     38    쿠팡  12000  2017-11-09T00:40:16\n",
       "8     39  11번가  10000  2017-11-06T10:28:26\n",
       "9     39   GS샵  17000  2017-11-08T02:00:16\n",
       "10    33   GS샵   6000  2017-11-07T15:29:40\n",
       "11    25   g마켓   5000  2017-11-09T17:35:41\n",
       "12    33  11번가  17000  2017-11-10T15:53:17\n",
       "13    27   위메프  17000  2017-11-02T05:28:18\n",
       "14    44    옥션  21000  2017-11-04T08:22:51\n",
       "15    20    티몬  28000  2017-11-03T20:15:22\n",
       "16    43  11번가  14000  2017-11-06T06:26:34\n",
       "17    27   GS샵   8000  2017-11-10T17:03:49\n",
       "18    35    옥션  23000  2017-11-05T04:57:07\n",
       "19    30    쿠팡  25000  2017-11-04T14:45:44\n",
       "20    28   GS샵  21000  2017-11-06T12:47:17\n",
       "21    26   GS샵  11000  2017-11-08T01:14:23\n",
       "22    29  11번가  17000  2017-11-03T10:37:56\n",
       "23    33    옥션  19000  2017-11-06T04:46:55\n",
       "24    42   g마켓  10000  2017-11-02T04:33:20\n",
       "25    22  11번가  18000  2017-11-05T00:20:15\n",
       "26    34   g마켓   5000  2017-11-07T02:40:42\n",
       "27    29  11번가  26000  2017-11-05T04:18:52\n",
       "28    45   GS샵  17000  2017-11-09T21:57:00\n",
       "29    35   g마켓   9000  2017-11-04T08:22:24\n",
       "30    38  11번가   9000  2017-11-07T01:32:11\n",
       "31    38   g마켓   7000  2017-11-09T03:28:29\n",
       "32    41    옥션  27000  2017-11-10T23:15:29\n",
       "33    19    티몬  23000  2017-11-04T20:38:58\n",
       "34    43   g마켓  10000  2017-11-02T19:50:09\n",
       "35    34    티몬   5000  2017-11-09T17:10:08\n",
       "36    17  11번가  27000  2017-11-01T13:52:01\n",
       "37    41   위메프  19000  2017-11-10T15:39:55\n",
       "38    27    옥션  20000  2017-11-09T14:50:53\n",
       "39    18    옥션  26000  2017-11-08T10:27:28\n",
       "40    22   GS샵  22000  2017-11-03T20:24:56\n",
       "41    29   g마켓  12000  2017-11-04T05:32:27\n",
       "42    26    옥션  23000  2017-11-02T13:19:26\n",
       "43    31  11번가  18000  2017-11-04T02:16:07\n",
       "44    45   위메프  22000  2017-11-10T16:14:55\n",
       "45    24   g마켓  13000  2017-11-07T18:24:38\n",
       "46    36   g마켓  12000  2017-11-04T11:48:21\n",
       "47    17   GS샵  11000  2017-11-03T01:42:38\n",
       "48    34    티몬   9000  2017-11-07T03:44:21\n",
       "49    19  11번가  27000  2017-11-08T03:43:55"
      ]
     },
     "execution_count": 4,
     "metadata": {},
     "output_type": "execute_result"
    }
   ],
   "source": [
    "df = pd.DataFrame([x['hits']['hits'][idx]['_source'] for idx, _ in enumerate(x['hits']['hits'])])\n",
    "df"
   ]
  },
  {
   "cell_type": "markdown",
   "metadata": {},
   "source": [
    "### Metric Aggregation"
   ]
  },
  {
   "cell_type": "markdown",
   "metadata": {},
   "source": [
    "<a name='count'></a>\n",
    "#### Value Count Aggregation \n",
    ": Documents의 총 개수를 반환한다"
   ]
  },
  {
   "cell_type": "code",
   "execution_count": 5,
   "metadata": {
    "scrolled": false
   },
   "outputs": [
    {
     "data": {
      "text/plain": [
       "50"
      ]
     },
     "execution_count": 5,
     "metadata": {},
     "output_type": "execute_result"
    }
   ],
   "source": [
    "len(df)"
   ]
  },
  {
   "cell_type": "markdown",
   "metadata": {},
   "source": [
    "<a name='avg'></a>\n",
    "#### Avg Aggregation\n",
    ": 특정 Number Field의 평균값을 반환한다"
   ]
  },
  {
   "cell_type": "code",
   "execution_count": 6,
   "metadata": {},
   "outputs": [
    {
     "data": {
      "text/plain": [
       "16220"
      ]
     },
     "execution_count": 6,
     "metadata": {},
     "output_type": "execute_result"
    }
   ],
   "source": [
    "# 상품가격\n",
    "int(df['상품가격'].mean())"
   ]
  },
  {
   "cell_type": "markdown",
   "metadata": {},
   "source": [
    "<a name='sum'></a>\n",
    "#### Sum Aggregation \n",
    ": 특정 Number Field의 합을 반환한다"
   ]
  },
  {
   "cell_type": "code",
   "execution_count": 7,
   "metadata": {},
   "outputs": [
    {
     "data": {
      "text/plain": [
       "811000"
      ]
     },
     "execution_count": 7,
     "metadata": {},
     "output_type": "execute_result"
    }
   ],
   "source": [
    "# 상품가격\n",
    "df['상품가격'].sum()"
   ]
  },
  {
   "cell_type": "markdown",
   "metadata": {},
   "source": [
    "<a name='min'></a>\n",
    "#### Min Aggregation \n",
    ": 특정 Number Field의 최소값을 반환한다"
   ]
  },
  {
   "cell_type": "code",
   "execution_count": 8,
   "metadata": {},
   "outputs": [
    {
     "data": {
      "text/plain": [
       "5000"
      ]
     },
     "execution_count": 8,
     "metadata": {},
     "output_type": "execute_result"
    }
   ],
   "source": [
    "# 상품가격\n",
    "df['상품가격'].min()"
   ]
  },
  {
   "cell_type": "markdown",
   "metadata": {},
   "source": [
    "<a name='max'></a>\n",
    "#### Max Aggregation \n",
    ": 특정 Number Field의 최대값을 반환한다"
   ]
  },
  {
   "cell_type": "code",
   "execution_count": 9,
   "metadata": {},
   "outputs": [
    {
     "data": {
      "text/plain": [
       "28000"
      ]
     },
     "execution_count": 9,
     "metadata": {},
     "output_type": "execute_result"
    }
   ],
   "source": [
    "# 상품가격\n",
    "df['상품가격'].max()"
   ]
  },
  {
   "cell_type": "markdown",
   "metadata": {},
   "source": [
    "<a name='extended'></a>\n",
    "#### Extended Stats Aggregation \n",
    ": 특정 Number Field의 기본 통계값을 반환한다"
   ]
  },
  {
   "cell_type": "code",
   "execution_count": 10,
   "metadata": {},
   "outputs": [
    {
     "data": {
      "text/plain": [
       "6768.1426626542689"
      ]
     },
     "execution_count": 10,
     "metadata": {},
     "output_type": "execute_result"
    }
   ],
   "source": [
    "# 상품가격\n",
    "df['상품가격'].std()"
   ]
  },
  {
   "cell_type": "markdown",
   "metadata": {},
   "source": [
    "<a name='cardinal'></a>\n",
    "#### Cardinality Aggregation \n",
    ": 특정 Number Field의 고유한 Value의 개수를 반환한다"
   ]
  },
  {
   "cell_type": "code",
   "execution_count": 11,
   "metadata": {},
   "outputs": [
    {
     "name": "stdout",
     "output_type": "stream",
     "text": [
      "총 7곳에서 구매했으며 사이트는 각각 ['옥션' '티몬' '위메프' 'GS샵' '쿠팡' '11번가' 'g마켓']입니다.\n"
     ]
    }
   ],
   "source": [
    "# 구매사이트\n",
    "number = len(df['구매사이트'].unique())\n",
    "items = df['구매사이트'].unique()\n",
    "\n",
    "print('총 {}곳에서 구매했으며 사이트는 각각 {}입니다.'.format(number, items))"
   ]
  },
  {
   "cell_type": "markdown",
   "metadata": {},
   "source": [
    "<a name='percentiles'></a>\n",
    "#### Percentiles Aggregation \n",
    ": 특정 Number Field의 특정 백분위의 백분위수를 반환한"
   ]
  },
  {
   "cell_type": "code",
   "execution_count": 12,
   "metadata": {},
   "outputs": [
    {
     "data": {
      "text/html": [
       "<div>\n",
       "<style scoped>\n",
       "    .dataframe tbody tr th:only-of-type {\n",
       "        vertical-align: middle;\n",
       "    }\n",
       "\n",
       "    .dataframe tbody tr th {\n",
       "        vertical-align: top;\n",
       "    }\n",
       "\n",
       "    .dataframe thead th {\n",
       "        text-align: right;\n",
       "    }\n",
       "</style>\n",
       "<table border=\"1\" class=\"dataframe\">\n",
       "  <thead>\n",
       "    <tr style=\"text-align: right;\">\n",
       "      <th></th>\n",
       "      <th>백분위</th>\n",
       "      <th>백분위수</th>\n",
       "    </tr>\n",
       "  </thead>\n",
       "  <tbody>\n",
       "    <tr>\n",
       "      <th>0</th>\n",
       "      <td>0.01</td>\n",
       "      <td>5000.0</td>\n",
       "    </tr>\n",
       "    <tr>\n",
       "      <th>1</th>\n",
       "      <td>0.05</td>\n",
       "      <td>5450.0</td>\n",
       "    </tr>\n",
       "    <tr>\n",
       "      <th>2</th>\n",
       "      <td>0.25</td>\n",
       "      <td>10250.0</td>\n",
       "    </tr>\n",
       "    <tr>\n",
       "      <th>3</th>\n",
       "      <td>0.50</td>\n",
       "      <td>17000.0</td>\n",
       "    </tr>\n",
       "    <tr>\n",
       "      <th>4</th>\n",
       "      <td>0.75</td>\n",
       "      <td>21750.0</td>\n",
       "    </tr>\n",
       "    <tr>\n",
       "      <th>5</th>\n",
       "      <td>0.95</td>\n",
       "      <td>27000.0</td>\n",
       "    </tr>\n",
       "    <tr>\n",
       "      <th>6</th>\n",
       "      <td>0.99</td>\n",
       "      <td>27510.0</td>\n",
       "    </tr>\n",
       "  </tbody>\n",
       "</table>\n",
       "</div>"
      ],
      "text/plain": [
       "    백분위     백분위수\n",
       "0  0.01   5000.0\n",
       "1  0.05   5450.0\n",
       "2  0.25  10250.0\n",
       "3  0.50  17000.0\n",
       "4  0.75  21750.0\n",
       "5  0.95  27000.0\n",
       "6  0.99  27510.0"
      ]
     },
     "execution_count": 12,
     "metadata": {},
     "output_type": "execute_result"
    }
   ],
   "source": [
    "# 상품가격\n",
    "df_percentile = df['상품가격'].quantile([.01, .05, .25, .5, .75, .95, .99])\n",
    "df_percentile = pd.DataFrame({'백분위' : df_percentile.index, '백분위수' : df_percentile.values.ravel()})\n",
    "df_percentile"
   ]
  },
  {
   "cell_type": "markdown",
   "metadata": {},
   "source": [
    "<a name='percentile ranks'></a>\n",
    "#### Percentile Ranks Aggregation \n",
    ": 특정 Number Field의 특정 Value의 백분위를 반환한"
   ]
  },
  {
   "cell_type": "code",
   "execution_count": 13,
   "metadata": {
    "scrolled": false
   },
   "outputs": [
    {
     "data": {
      "text/html": [
       "<div>\n",
       "<style scoped>\n",
       "    .dataframe tbody tr th:only-of-type {\n",
       "        vertical-align: middle;\n",
       "    }\n",
       "\n",
       "    .dataframe tbody tr th {\n",
       "        vertical-align: top;\n",
       "    }\n",
       "\n",
       "    .dataframe thead th {\n",
       "        text-align: right;\n",
       "    }\n",
       "</style>\n",
       "<table border=\"1\" class=\"dataframe\">\n",
       "  <thead>\n",
       "    <tr style=\"text-align: right;\">\n",
       "      <th></th>\n",
       "      <th>상품가격</th>\n",
       "      <th>백분위</th>\n",
       "    </tr>\n",
       "  </thead>\n",
       "  <tbody>\n",
       "    <tr>\n",
       "      <th>1</th>\n",
       "      <td>12000</td>\n",
       "      <td>0.34</td>\n",
       "    </tr>\n",
       "  </tbody>\n",
       "</table>\n",
       "</div>"
      ],
      "text/plain": [
       "    상품가격   백분위\n",
       "1  12000  0.34"
      ]
     },
     "execution_count": 13,
     "metadata": {},
     "output_type": "execute_result"
    }
   ],
   "source": [
    "df['백분위'] = df['상품가격'].rank(pct=True)\n",
    "df_percentile_ranks = df[df['상품가격']==12000]['백분위']\n",
    "df_percentile_ranks = pd.DataFrame({'상품가격' : [12000] * len(df_percentile_ranks), '백분위' : df_percentile_ranks.values.ravel()})\n",
    "df_percentile_ranks[['상품가격', '백분위']].iloc[1:2, 0:2]"
   ]
  },
  {
   "cell_type": "markdown",
   "metadata": {},
   "source": [
    "<a name='top hits'></a>\n",
    "#### Top Hits Aggregation \n",
    ": 조건을 만족하는 Document의 특정 Field의 Agg 반환"
   ]
  },
  {
   "cell_type": "markdown",
   "metadata": {},
   "source": [
    "##### String\n",
    "* 가장 비싼 상품 3개의\n",
    "* 구매 사이트를 각각\n",
    "* 보여주세요"
   ]
  },
  {
   "cell_type": "code",
   "execution_count": 14,
   "metadata": {},
   "outputs": [
    {
     "data": {
      "text/html": [
       "<div>\n",
       "<style scoped>\n",
       "    .dataframe tbody tr th:only-of-type {\n",
       "        vertical-align: middle;\n",
       "    }\n",
       "\n",
       "    .dataframe tbody tr th {\n",
       "        vertical-align: top;\n",
       "    }\n",
       "\n",
       "    .dataframe thead th {\n",
       "        text-align: right;\n",
       "    }\n",
       "</style>\n",
       "<table border=\"1\" class=\"dataframe\">\n",
       "  <thead>\n",
       "    <tr style=\"text-align: right;\">\n",
       "      <th></th>\n",
       "      <th>고객나이</th>\n",
       "      <th>구매사이트</th>\n",
       "      <th>상품가격</th>\n",
       "      <th>주문시간</th>\n",
       "      <th>백분위</th>\n",
       "    </tr>\n",
       "  </thead>\n",
       "  <tbody>\n",
       "    <tr>\n",
       "      <th>15</th>\n",
       "      <td>20</td>\n",
       "      <td>티몬</td>\n",
       "      <td>28000</td>\n",
       "      <td>2017-11-03T20:15:22</td>\n",
       "      <td>1.00</td>\n",
       "    </tr>\n",
       "    <tr>\n",
       "      <th>49</th>\n",
       "      <td>19</td>\n",
       "      <td>11번가</td>\n",
       "      <td>27000</td>\n",
       "      <td>2017-11-08T03:43:55</td>\n",
       "      <td>0.96</td>\n",
       "    </tr>\n",
       "    <tr>\n",
       "      <th>32</th>\n",
       "      <td>41</td>\n",
       "      <td>옥션</td>\n",
       "      <td>27000</td>\n",
       "      <td>2017-11-10T23:15:29</td>\n",
       "      <td>0.96</td>\n",
       "    </tr>\n",
       "  </tbody>\n",
       "</table>\n",
       "</div>"
      ],
      "text/plain": [
       "    고객나이 구매사이트   상품가격                 주문시간   백분위\n",
       "15    20    티몬  28000  2017-11-03T20:15:22  1.00\n",
       "49    19  11번가  27000  2017-11-08T03:43:55  0.96\n",
       "32    41    옥션  27000  2017-11-10T23:15:29  0.96"
      ]
     },
     "execution_count": 14,
     "metadata": {},
     "output_type": "execute_result"
    }
   ],
   "source": [
    "# 가장 비싼 상품 3개의...\n",
    "three_most_expensive = df.sort_values(by='상품가격', ascending=False)[:3]\n",
    "three_most_expensive"
   ]
  },
  {
   "cell_type": "code",
   "execution_count": 15,
   "metadata": {},
   "outputs": [
    {
     "data": {
      "text/html": [
       "<div>\n",
       "<style scoped>\n",
       "    .dataframe tbody tr th:only-of-type {\n",
       "        vertical-align: middle;\n",
       "    }\n",
       "\n",
       "    .dataframe tbody tr th {\n",
       "        vertical-align: top;\n",
       "    }\n",
       "\n",
       "    .dataframe thead th {\n",
       "        text-align: right;\n",
       "    }\n",
       "</style>\n",
       "<table border=\"1\" class=\"dataframe\">\n",
       "  <thead>\n",
       "    <tr style=\"text-align: right;\">\n",
       "      <th></th>\n",
       "      <th>Top 3</th>\n",
       "    </tr>\n",
       "  </thead>\n",
       "  <tbody>\n",
       "    <tr>\n",
       "      <th>0</th>\n",
       "      <td>[티몬, 11번가, 옥션]</td>\n",
       "    </tr>\n",
       "  </tbody>\n",
       "</table>\n",
       "</div>"
      ],
      "text/plain": [
       "            Top 3\n",
       "0  [티몬, 11번가, 옥션]"
      ]
     },
     "execution_count": 15,
     "metadata": {},
     "output_type": "execute_result"
    }
   ],
   "source": [
    "# ....구매 사이트를 각각 보여주세요\n",
    "df_top_hits = pd.DataFrame({'Top 3' : [three_most_expensive['구매사이트'].values.ravel()]})\n",
    "df_top_hits"
   ]
  },
  {
   "cell_type": "markdown",
   "metadata": {},
   "source": [
    "##### Number\n",
    "* 나이가 가장 적은 3명의\n",
    "* 상품값의\n",
    "* 평균을 보여주세요 "
   ]
  },
  {
   "cell_type": "code",
   "execution_count": 16,
   "metadata": {},
   "outputs": [
    {
     "data": {
      "text/html": [
       "<div>\n",
       "<style scoped>\n",
       "    .dataframe tbody tr th:only-of-type {\n",
       "        vertical-align: middle;\n",
       "    }\n",
       "\n",
       "    .dataframe tbody tr th {\n",
       "        vertical-align: top;\n",
       "    }\n",
       "\n",
       "    .dataframe thead th {\n",
       "        text-align: right;\n",
       "    }\n",
       "</style>\n",
       "<table border=\"1\" class=\"dataframe\">\n",
       "  <thead>\n",
       "    <tr style=\"text-align: right;\">\n",
       "      <th></th>\n",
       "      <th>고객나이</th>\n",
       "      <th>구매사이트</th>\n",
       "      <th>상품가격</th>\n",
       "      <th>주문시간</th>\n",
       "      <th>백분위</th>\n",
       "    </tr>\n",
       "  </thead>\n",
       "  <tbody>\n",
       "    <tr>\n",
       "      <th>47</th>\n",
       "      <td>17</td>\n",
       "      <td>GS샵</td>\n",
       "      <td>11000</td>\n",
       "      <td>2017-11-03T01:42:38</td>\n",
       "      <td>0.29</td>\n",
       "    </tr>\n",
       "    <tr>\n",
       "      <th>36</th>\n",
       "      <td>17</td>\n",
       "      <td>11번가</td>\n",
       "      <td>27000</td>\n",
       "      <td>2017-11-01T13:52:01</td>\n",
       "      <td>0.96</td>\n",
       "    </tr>\n",
       "    <tr>\n",
       "      <th>39</th>\n",
       "      <td>18</td>\n",
       "      <td>옥션</td>\n",
       "      <td>26000</td>\n",
       "      <td>2017-11-08T10:27:28</td>\n",
       "      <td>0.91</td>\n",
       "    </tr>\n",
       "  </tbody>\n",
       "</table>\n",
       "</div>"
      ],
      "text/plain": [
       "    고객나이 구매사이트   상품가격                 주문시간   백분위\n",
       "47    17   GS샵  11000  2017-11-03T01:42:38  0.29\n",
       "36    17  11번가  27000  2017-11-01T13:52:01  0.96\n",
       "39    18    옥션  26000  2017-11-08T10:27:28  0.91"
      ]
     },
     "execution_count": 16,
     "metadata": {},
     "output_type": "execute_result"
    }
   ],
   "source": [
    "# 나이가 가장 어린 3명의...\n",
    "three_youngest_people = df.sort_values(by='고객나이', ascending=True)[:3]\n",
    "three_youngest_people"
   ]
  },
  {
   "cell_type": "code",
   "execution_count": 17,
   "metadata": {},
   "outputs": [
    {
     "data": {
      "text/html": [
       "<div>\n",
       "<style scoped>\n",
       "    .dataframe tbody tr th:only-of-type {\n",
       "        vertical-align: middle;\n",
       "    }\n",
       "\n",
       "    .dataframe tbody tr th {\n",
       "        vertical-align: top;\n",
       "    }\n",
       "\n",
       "    .dataframe thead th {\n",
       "        text-align: right;\n",
       "    }\n",
       "</style>\n",
       "<table border=\"1\" class=\"dataframe\">\n",
       "  <thead>\n",
       "    <tr style=\"text-align: right;\">\n",
       "      <th></th>\n",
       "      <th>상품가격</th>\n",
       "    </tr>\n",
       "  </thead>\n",
       "  <tbody>\n",
       "    <tr>\n",
       "      <th>47</th>\n",
       "      <td>11000</td>\n",
       "    </tr>\n",
       "    <tr>\n",
       "      <th>36</th>\n",
       "      <td>27000</td>\n",
       "    </tr>\n",
       "    <tr>\n",
       "      <th>39</th>\n",
       "      <td>26000</td>\n",
       "    </tr>\n",
       "  </tbody>\n",
       "</table>\n",
       "</div>"
      ],
      "text/plain": [
       "     상품가격\n",
       "47  11000\n",
       "36  27000\n",
       "39  26000"
      ]
     },
     "execution_count": 17,
     "metadata": {},
     "output_type": "execute_result"
    }
   ],
   "source": [
    "# ...상품값의...\n",
    "three_youngest_people[['상품가격']]"
   ]
  },
  {
   "cell_type": "code",
   "execution_count": 18,
   "metadata": {},
   "outputs": [
    {
     "data": {
      "text/plain": [
       "21333.333333333332"
      ]
     },
     "execution_count": 18,
     "metadata": {},
     "output_type": "execute_result"
    }
   ],
   "source": [
    "# 평균을 보여주세요\n",
    "three_youngest_people['상품가격'].mean()"
   ]
  }
 ],
 "metadata": {
  "kernelspec": {
   "display_name": "Python 3",
   "language": "python",
   "name": "python3"
  },
  "language_info": {
   "codemirror_mode": {
    "name": "ipython",
    "version": 3
   },
   "file_extension": ".py",
   "mimetype": "text/x-python",
   "name": "python",
   "nbconvert_exporter": "python",
   "pygments_lexer": "ipython3",
   "version": "3.6.1"
  },
  "latex_envs": {
   "LaTeX_envs_menu_present": true,
   "autocomplete": true,
   "bibliofile": "biblio.bib",
   "cite_by": "apalike",
   "current_citInitial": 1,
   "eqLabelWithNumbers": true,
   "eqNumInitial": 1,
   "hotkeys": {
    "equation": "Ctrl-E",
    "itemize": "Ctrl-I"
   },
   "labels_anchors": false,
   "latex_user_defs": false,
   "report_style_numbering": false,
   "user_envs_cfg": false
  },
  "toc": {
   "nav_menu": {},
   "number_sections": true,
   "sideBar": true,
   "skip_h1_title": false,
   "toc_cell": false,
   "toc_position": {
    "height": "721px",
    "left": "0px",
    "right": "1387.01px",
    "top": "158px",
    "width": "213px"
   },
   "toc_section_display": "block",
   "toc_window_display": true
  },
  "varInspector": {
   "cols": {
    "lenName": 16,
    "lenType": 16,
    "lenVar": "400"
   },
   "kernels_config": {
    "python": {
     "delete_cmd_postfix": "",
     "delete_cmd_prefix": "del ",
     "library": "var_list.py",
     "varRefreshCmd": "print(var_dic_list())"
    },
    "r": {
     "delete_cmd_postfix": ") ",
     "delete_cmd_prefix": "rm(",
     "library": "var_list.r",
     "varRefreshCmd": "cat(var_dic_list()) "
    }
   },
   "types_to_exclude": [
    "module",
    "function",
    "builtin_function_or_method",
    "instance",
    "_Feature"
   ],
   "window_display": false
  }
 },
 "nbformat": 4,
 "nbformat_minor": 2
}
